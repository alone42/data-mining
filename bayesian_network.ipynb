{
 "cells": [
  {
   "cell_type": "code",
   "execution_count": null,
   "metadata": {
    "id": "JBvvDYiBpSS1"
   },
   "outputs": [],
   "source": [
    "install.packages(\"bnlearn\")\n",
    "library(bnlearn)"
   ]
  },
  {
   "cell_type": "code",
   "execution_count": null,
   "metadata": {
    "id": "qtqNLN3Kz33s"
   },
   "outputs": [],
   "source": [
    "if (!requireNamespace(\"BiocManager\", quietly = TRUE))\n",
    "    install.packages(\"BiocManager\")\n",
    "BiocManager::install(c(\"graph\", \"RBGL\", \"Rgraphviz\"))\n",
    "library(Rgraphviz)\n",
    "install.packages(\"gRain\", dependencies=TRUE)\n",
    "library(gRain)\n",
    "install.packages(\"useful\")\n",
    "library(useful)"
   ]
  },
  {
   "cell_type": "code",
   "execution_count": 4,
   "metadata": {
    "colab": {
     "base_uri": "https://localhost:8080/",
     "height": 437
    },
    "id": "cln6_khOGkvq",
    "outputId": "59f02458-c44e-44a2-f575-3f65fc2e695e"
   },
   "outputs": [
    {
     "data": {
      "image/png": "[encoded data removed]",
      "text/plain": [
       "plot without title"
      ]
     },
     "metadata": {
      "image/png": {
       "height": 420,
       "width": 420
      }
     },
     "output_type": "display_data"
    }
   ],
   "source": [
    "# 1. \n",
    "bl.alarm <- model2network('[Burglar][Earthquake][Alarm|Burglar:Earthquake][News|Earthquake][Watson|Alarm]')\n",
    "plot(bl.alarm)\n",
    "\n",
    "yn <- c(\"yes\",\"no\")\n",
    "B <- array(dimnames = list(Burglar = yn), dim = 2, c(0.30,0.70))\n",
    "E <- array(dimnames = list(Earthquake = yn), dim = 2, c(0.35,0.65))\n",
    "A <- array(dimnames = list(Alarm = yn, Earthquake = yn, Burglar = yn), \n",
    "           dim = c(2, 2, 2),\n",
    "           c(0.95,0.05,0.90,0.10,0.60,0.40,0.01,0.99))\n",
    "W <- array(dimnames = list(Watson = yn, Alarm = yn), \n",
    "           dim = c(2, 2), c(0.80,0.20,0.40,0.60))\n",
    "N <- array(dimnames = list(News = yn, Earthquake = yn), \n",
    "           dim = c(2, 2), c(0.60,0.40,0.01,0.99))\n",
    "cpts <- list(Burglar = B, Earthquake = E, Alarm = A, Watson = W, News = N)\n",
    "bl.alarm.fit = custom.fit(bl.alarm, cpts)"
   ]
  },
  {
   "cell_type": "code",
   "execution_count": 5,
   "metadata": {
    "id": "-bf9GaBvFuFA"
   },
   "outputs": [],
   "source": [
    "gr.alarm <- as.grain(bl.alarm.fit)\n",
    "gr.alarm <- compile(gr.alarm)"
   ]
  },
  {
   "cell_type": "code",
   "execution_count": 6,
   "metadata": {
    "id": "aEuNsdNXck2j"
   },
   "outputs": [],
   "source": [
    "nodes <- c('Burglar', 'Earthquake', 'Alarm', 'Watson', 'News') \n",
    "gr.alarm <- retractEvidence(gr.alarm, nodes) "
   ]
  },
  {
   "cell_type": "code",
   "execution_count": 7,
   "metadata": {
    "colab": {
     "base_uri": "https://localhost:8080/",
     "height": 52
    },
    "id": "tJOmpWbobcjL",
    "outputId": "dc871701-f36f-4cc4-e931-074be53ceebd"
   },
   "outputs": [
    {
     "data": {
      "text/html": [
       "<strong>yes:</strong> TRUE"
      ],
      "text/latex": [
       "\\textbf{yes:} TRUE"
      ],
      "text/markdown": [
       "**yes:** TRUE"
      ],
      "text/plain": [
       " yes \n",
       "TRUE "
      ]
     },
     "metadata": {},
     "output_type": "display_data"
    },
    {
     "data": {
      "text/html": [
       "<strong>yes:</strong> FALSE"
      ],
      "text/latex": [
       "\\textbf{yes:} FALSE"
      ],
      "text/markdown": [
       "**yes:** FALSE"
      ],
      "text/plain": [
       "  yes \n",
       "FALSE "
      ]
     },
     "metadata": {},
     "output_type": "display_data"
    }
   ],
   "source": [
    "# 1. a)\n",
    "gr.alarm.News <- setEvidence(object=gr.alarm, nodes = \"News\", states = \"yes\")\n",
    "# i\n",
    "querygrain(gr.alarm.News, nodes = \"Earthquake\", type = \"joint\")[1] > querygrain(object=gr.alarm, nodes=\"Earthquake\", type = \"joint\")[1]\n",
    "# ii\n",
    "querygrain(gr.alarm.News, nodes = \"Burglar\", type = \"joint\")[1] > querygrain(object=gr.alarm, nodes=\"Burglar\", type = \"joint\")[1]\n"
   ]
  },
  {
   "cell_type": "code",
   "execution_count": 8,
   "metadata": {
    "colab": {
     "base_uri": "https://localhost:8080/",
     "height": 52
    },
    "id": "2I2WwZHshdn6",
    "outputId": "f824e58d-6f40-4c96-ae95-e2acea94362a"
   },
   "outputs": [
    {
     "data": {
      "text/html": [
       "<strong>yes:</strong> TRUE"
      ],
      "text/latex": [
       "\\textbf{yes:} TRUE"
      ],
      "text/markdown": [
       "**yes:** TRUE"
      ],
      "text/plain": [
       " yes \n",
       "TRUE "
      ]
     },
     "metadata": {},
     "output_type": "display_data"
    },
    {
     "data": {
      "text/html": [
       "<strong>yes:</strong> FALSE"
      ],
      "text/latex": [
       "\\textbf{yes:} FALSE"
      ],
      "text/markdown": [
       "**yes:** FALSE"
      ],
      "text/plain": [
       "  yes \n",
       "FALSE "
      ]
     },
     "metadata": {},
     "output_type": "display_data"
    }
   ],
   "source": [
    "# 1. b)\n",
    "gr.alarm.Earthquake <- setEvidence(object=gr.alarm, nodes = \"Earthquake\", states = \"yes\")\n",
    "# i\n",
    "querygrain(gr.alarm.Earthquake, nodes = \"Watson\", type = \"joint\")[1] > querygrain(object=gr.alarm, nodes=\"Watson\", type = \"joint\")[1]\n",
    "# ii\n",
    "querygrain(gr.alarm.Earthquake, nodes = \"Burglar\", type = \"joint\")[1] > querygrain(object=gr.alarm, nodes=\"Burglar\", type = \"joint\")[1]"
   ]
  },
  {
   "cell_type": "code",
   "execution_count": 9,
   "metadata": {
    "colab": {
     "base_uri": "https://localhost:8080/",
     "height": 34
    },
    "id": "jqpaNhQoiS98",
    "outputId": "dcbd5656-3a2d-4c5f-9157-5596dfd54c6f"
   },
   "outputs": [
    {
     "data": {
      "text/html": [
       "<strong>yes:</strong> TRUE"
      ],
      "text/latex": [
       "\\textbf{yes:} TRUE"
      ],
      "text/markdown": [
       "**yes:** TRUE"
      ],
      "text/plain": [
       " yes \n",
       "TRUE "
      ]
     },
     "metadata": {},
     "output_type": "display_data"
    }
   ],
   "source": [
    "# 1. c)\n",
    "gr.alarm.Alarm <- setEvidence(object=gr.alarm, nodes = \"Alarm\", states = \"yes\")\n",
    "# i\n",
    "querygrain(gr.alarm.Alarm, nodes = \"Burglar\", type = \"joint\")[1] > querygrain(object=gr.alarm, nodes=\"Burglar\", type = \"joint\")[1]"
   ]
  },
  {
   "cell_type": "code",
   "execution_count": 10,
   "metadata": {
    "colab": {
     "base_uri": "https://localhost:8080/",
     "height": 34
    },
    "id": "itkGSSzSjo4y",
    "outputId": "548e321f-f43b-44c1-c3bf-3e499189bea2"
   },
   "outputs": [
    {
     "data": {
      "text/html": [
       "<strong>yes:</strong> FALSE"
      ],
      "text/latex": [
       "\\textbf{yes:} FALSE"
      ],
      "text/markdown": [
       "**yes:** FALSE"
      ],
      "text/plain": [
       "  yes \n",
       "FALSE "
      ]
     },
     "metadata": {},
     "output_type": "display_data"
    }
   ],
   "source": [
    "# 1. d)\n",
    "gr.alarm.AlarmEarthquake <- setEvidence(object=gr.alarm, nodes = c(\"Alarm\", \"Earthquake\"), states = c(\"yes\", \"yes\"))\n",
    "# i\n",
    "querygrain(gr.alarm.Alarm, nodes = \"Burglar\", type = \"joint\")[1] < querygrain(gr.alarm.AlarmEarthquake, nodes = \"Burglar\", type = \"joint\")[1]"
   ]
  },
  {
   "cell_type": "code",
   "execution_count": 33,
   "metadata": {
    "colab": {
     "base_uri": "https://localhost:8080/",
     "height": 437
    },
    "id": "yuddGzFOG9Uf",
    "outputId": "d21144e8-b060-443f-823e-83e07126ca2f"
   },
   "outputs": [
    {
     "data": {
      "image/png": "[encoded data removed]",
      "text/plain": [
       "plot without title"
      ]
     },
     "metadata": {
      "image/png": {
       "height": 420,
       "width": 420
      }
     },
     "output_type": "display_data"
    }
   ],
   "source": [
    "# 2. a)\n",
    "bl.monty <- model2network(\"[Prize][Contestant][Host|Prize:Contestant]\")\n",
    "plot(bl.monty)\n",
    "choice <- c(\"1\", \"2\", \"3\")\n",
    "C <- array(dimnames = list(Contestant = choice), dim = 3, c(0.333, 0.333, 0.334))\n",
    "P <- array(dimnames = list(Prize = choice), dim = 3, c(0.333, 0.333, 0.334))\n",
    "H <- array(dimnames = list(Host = choice, Prize = choice, Contestant = choice),\n",
    "           dim = c(3, 3, 3),\n",
    "           c(0, 0.5, 0.5, 0, 0, 1, 0, 1, 0,\n",
    "             0, 0, 1, 0.5, 0, 0.5, 1, 0, 0,\n",
    "             0, 1, 0, 1, 0, 0, 0.5, 0.5, 0))\n",
    "cpts <- list(Contestant = C, Prize = P, Host = H)\n",
    "bl.monty.fit = custom.fit(bl.monty, cpts)"
   ]
  },
  {
   "cell_type": "code",
   "execution_count": 62,
   "metadata": {
    "colab": {
     "base_uri": "https://localhost:8080/",
     "height": 34
    },
    "id": "KhMdGxRx11aT",
    "outputId": "9e5e13f2-6047-4f35-9892-8a6317af884d"
   },
   "outputs": [
    {
     "data": {
      "text/html": [
       "TRUE"
      ],
      "text/latex": [
       "TRUE"
      ],
      "text/markdown": [
       "TRUE"
      ],
      "text/plain": [
       "[1] TRUE"
      ]
     },
     "metadata": {},
     "output_type": "display_data"
    }
   ],
   "source": [
    "# 2. b)\n",
    "gr.monty <- as.grain(bl.monty.fit)\n",
    "gr.monty <- compile(gr.monty)\n",
    "nodes = c(\"Prize\", \"Contestant\", \"Host\")\n",
    "gr.monty.NoEvidence <- retractEvidence(gr.monty, nodes)\n",
    "# i.\n",
    "compare.list(querygrain(object = gr.monty.NoEvidence, nodes=\"Host\"), querygrain(object = gr.monty, nodes=\"Host\"))\n",
    "# Brak dowodów nie wpłynął na prawdopodobieństwo wyboru Hosta."
   ]
  },
  {
   "cell_type": "code",
   "execution_count": 64,
   "metadata": {
    "colab": {
     "base_uri": "https://localhost:8080/",
     "height": 52
    },
    "id": "P2zWH-fM_jiZ",
    "outputId": "16016eaf-d667-4315-f758-38edea2f4889"
   },
   "outputs": [
    {
     "data": {
      "text/html": [
       "<style>\n",
       ".dl-inline {width: auto; margin:0; padding: 0}\n",
       ".dl-inline>dt, .dl-inline>dd {float: none; width: auto; display: inline-block}\n",
       ".dl-inline>dt::after {content: \":\\0020\"; padding-right: .5ex}\n",
       ".dl-inline>dt:not(:first-of-type) {padding-left: .5ex}\n",
       "</style><dl class=dl-inline><dt>1</dt><dd>0.333</dd><dt>2</dt><dd>0.333</dd><dt>3</dt><dd>0.334</dd></dl>\n"
      ],
      "text/latex": [
       "\\begin{description*}\n",
       "\\item[1] 0.333\n",
       "\\item[2] 0.333\n",
       "\\item[3] 0.334\n",
       "\\end{description*}\n"
      ],
      "text/markdown": [
       "1\n",
       ":   0.3332\n",
       ":   0.3333\n",
       ":   0.334\n",
       "\n"
      ],
      "text/plain": [
       "Prize\n",
       "    1     2     3 \n",
       "0.333 0.333 0.334 "
      ]
     },
     "metadata": {},
     "output_type": "display_data"
    },
    {
     "data": {
      "text/html": [
       "<style>\n",
       ".dl-inline {width: auto; margin:0; padding: 0}\n",
       ".dl-inline>dt, .dl-inline>dd {float: none; width: auto; display: inline-block}\n",
       ".dl-inline>dt::after {content: \":\\0020\"; padding-right: .5ex}\n",
       ".dl-inline>dt:not(:first-of-type) {padding-left: .5ex}\n",
       "</style><dl class=dl-inline><dt>1</dt><dd>0.333</dd><dt>2</dt><dd>0.333</dd><dt>3</dt><dd>0.334</dd></dl>\n"
      ],
      "text/latex": [
       "\\begin{description*}\n",
       "\\item[1] 0.333\n",
       "\\item[2] 0.333\n",
       "\\item[3] 0.334\n",
       "\\end{description*}\n"
      ],
      "text/markdown": [
       "1\n",
       ":   0.3332\n",
       ":   0.3333\n",
       ":   0.334\n",
       "\n"
      ],
      "text/plain": [
       "Prize\n",
       "    1     2     3 \n",
       "0.333 0.333 0.334 "
      ]
     },
     "metadata": {},
     "output_type": "display_data"
    }
   ],
   "source": [
    "# 2. c)\n",
    "gr.monty.Contestant <- setEvidence(object = gr.monty, nodes = \"Contestant\", states = \"3\")\n",
    "# i\n",
    "querygrain(object = gr.monty, nodes=\"Prize\", type = \"joint\")\n",
    "querygrain(object = gr.monty.Contestant, nodes=\"Prize\", type = \"joint\")\n",
    "# Prawdopodobieństwo sukcesu dla bramek nie zmieniło się po dokonaniu wyboru Contestanta. "
   ]
  },
  {
   "cell_type": "code",
   "execution_count": 65,
   "metadata": {
    "colab": {
     "base_uri": "https://localhost:8080/",
     "height": 52
    },
    "id": "KW3KyKbq_t6J",
    "outputId": "f38212f6-3295-402b-c06b-954fde667d0b"
   },
   "outputs": [
    {
     "data": {
      "text/html": [
       "<style>\n",
       ".dl-inline {width: auto; margin:0; padding: 0}\n",
       ".dl-inline>dt, .dl-inline>dd {float: none; width: auto; display: inline-block}\n",
       ".dl-inline>dt::after {content: \":\\0020\"; padding-right: .5ex}\n",
       ".dl-inline>dt:not(:first-of-type) {padding-left: .5ex}\n",
       "</style><dl class=dl-inline><dt>1</dt><dd>0.3336665</dd><dt>2</dt><dd>0.3336665</dd><dt>3</dt><dd>0.332667</dd></dl>\n"
      ],
      "text/latex": [
       "\\begin{description*}\n",
       "\\item[1] 0.3336665\n",
       "\\item[2] 0.3336665\n",
       "\\item[3] 0.332667\n",
       "\\end{description*}\n"
      ],
      "text/markdown": [
       "1\n",
       ":   0.33366652\n",
       ":   0.33366653\n",
       ":   0.332667\n",
       "\n"
      ],
      "text/plain": [
       "Host\n",
       "        1         2         3 \n",
       "0.3336665 0.3336665 0.3326670 "
      ]
     },
     "metadata": {},
     "output_type": "display_data"
    },
    {
     "data": {
      "text/html": [
       "<style>\n",
       ".dl-inline {width: auto; margin:0; padding: 0}\n",
       ".dl-inline>dt, .dl-inline>dd {float: none; width: auto; display: inline-block}\n",
       ".dl-inline>dt::after {content: \":\\0020\"; padding-right: .5ex}\n",
       ".dl-inline>dt:not(:first-of-type) {padding-left: .5ex}\n",
       "</style><dl class=dl-inline><dt>1</dt><dd>0.5</dd><dt>2</dt><dd>0.5</dd><dt>3</dt><dd>0</dd></dl>\n"
      ],
      "text/latex": [
       "\\begin{description*}\n",
       "\\item[1] 0.5\n",
       "\\item[2] 0.5\n",
       "\\item[3] 0\n",
       "\\end{description*}\n"
      ],
      "text/markdown": [
       "1\n",
       ":   0.52\n",
       ":   0.53\n",
       ":   0\n",
       "\n"
      ],
      "text/plain": [
       "Host\n",
       "  1   2   3 \n",
       "0.5 0.5 0.0 "
      ]
     },
     "metadata": {},
     "output_type": "display_data"
    }
   ],
   "source": [
    "# ii\n",
    "querygrain(object = gr.monty, nodes=\"Host\", type = \"joint\")\n",
    "querygrain(object = gr.monty.Contestant, nodes=\"Host\", type = \"joint\")\n",
    "# Prawdopodobieństwo wyboru Hosta dla pierwszej i drugiej bramki wzrosło, dla trzeciej zmalało."
   ]
  },
  {
   "cell_type": "code",
   "execution_count": 69,
   "metadata": {
    "colab": {
     "base_uri": "https://localhost:8080/",
     "height": 52
    },
    "id": "NE0nIrBeIItk",
    "outputId": "cd0812d3-3d3f-4d65-8035-eae2e15b8486"
   },
   "outputs": [
    {
     "data": {
      "text/html": [
       "<style>\n",
       ".dl-inline {width: auto; margin:0; padding: 0}\n",
       ".dl-inline>dt, .dl-inline>dd {float: none; width: auto; display: inline-block}\n",
       ".dl-inline>dt::after {content: \":\\0020\"; padding-right: .5ex}\n",
       ".dl-inline>dt:not(:first-of-type) {padding-left: .5ex}\n",
       "</style><dl class=dl-inline><dt>1</dt><dd>0.333333333333333</dd><dt>2</dt><dd>0.666666666666667</dd><dt>3</dt><dd>0</dd></dl>\n"
      ],
      "text/latex": [
       "\\begin{description*}\n",
       "\\item[1] 0.333333333333333\n",
       "\\item[2] 0.666666666666667\n",
       "\\item[3] 0\n",
       "\\end{description*}\n"
      ],
      "text/markdown": [
       "1\n",
       ":   0.3333333333333332\n",
       ":   0.6666666666666673\n",
       ":   0\n",
       "\n"
      ],
      "text/plain": [
       "Prize\n",
       "        1         2         3 \n",
       "0.3333333 0.6666667 0.0000000 "
      ]
     },
     "metadata": {},
     "output_type": "display_data"
    },
    {
     "data": {
      "text/html": [
       "<strong>2:</strong> 2"
      ],
      "text/latex": [
       "\\textbf{2:} 2"
      ],
      "text/markdown": [
       "**2:** 2"
      ],
      "text/plain": [
       "2 \n",
       "2 "
      ]
     },
     "metadata": {},
     "output_type": "display_data"
    }
   ],
   "source": [
    "# 2. d)\n",
    "gr.monty.ContestantHost <- setEvidence(object=gr.monty, nodes = c(\"Contestant\", \"Host\"), states = c(\"1\", \"3\"))\n",
    "# i\n",
    "querygrain(object = gr.monty.ContestantHost, nodes=\"Prize\", type = \"joint\")\n",
    "which.max(querygrain(object = gr.monty.ContestantHost, nodes=\"Prize\", type = \"joint\"))\n",
    "# Bramka nr 2 ma największe prawdopodobieństwo wygranej."
   ]
  }
 ],
 "metadata": {
  "colab": {
   "collapsed_sections": [],
   "name": "SieciBayesa.ipynb",
   "provenance": []
  },
  "kernelspec": {
   "display_name": "R",
   "language": "R",
   "name": "ir"
  },
  "language_info": {
   "codemirror_mode": "r",
   "file_extension": ".r",
   "mimetype": "text/x-r-source",
   "name": "R",
   "pygments_lexer": "r",
   "version": "4.1.1"
  }
 },
 "nbformat": 4,
 "nbformat_minor": 1
}
