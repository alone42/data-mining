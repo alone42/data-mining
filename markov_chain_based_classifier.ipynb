{
 "cells": [
  {
   "cell_type": "markdown",
   "metadata": {},
   "source": [
    "## Markov-chain-based classifier"
   ]
  },
  {
   "cell_type": "code",
   "execution_count": null,
   "metadata": {},
   "outputs": [],
   "source": [
    "import string\n",
    "import numpy as np\n",
    "import pandas as pd\n",
    "import itertools"
   ]
  },
  {
   "cell_type": "markdown",
   "metadata": {},
   "source": [
    "### Markov model implementation"
   ]
  },
  {
   "cell_type": "code",
   "execution_count": 1,
   "metadata": {},
   "outputs": [],
   "source": [
    "class Model():\n",
    "    def __init__(self, name, string, alphabet, state_len):\n",
    "        self.name = name\n",
    "        self.string = string\n",
    "        self.alphabet = np.asarray(list(alphabet))\n",
    "        self.size = len(self.alphabet)\n",
    "        self.Pi = []\n",
    "        self.permutations = []\n",
    "        permutations = np.asarray(list(itertools.permutations(self.alphabet, 2)), dtype='str')\n",
    "        for i in permutations:\n",
    "            self.permutations.append(str(i[0])+str(i[1]))\n",
    "        self.permutations = np.asarray(self.permutations)\n",
    "        self.A, self.pi = self.freq(state_len)\n",
    "        \n",
    "    def freq(self, pi_len):\n",
    "        A = np.zeros((self.size, self.size))\n",
    "        if pi_len == 1:\n",
    "            pi = np.zeros(self.size)\n",
    "            for ind in range(len(self.string[:-1])):\n",
    "                if ind == 0:\n",
    "                    k = np.where(self.alphabet == self.string[ind])[0]\n",
    "                    pi[k] += 1\n",
    "                elif self.string[ind] == \" \":\n",
    "                    k = np.where(self.alphabet == self.string[ind+1])[0]\n",
    "                    pi[k] += 1\n",
    "                else:\n",
    "                    if self.string[ind+1] != \" \":\n",
    "                        i = np.where(self.alphabet == self.string[ind])[0]\n",
    "                        j = np.where(self.alphabet == self.string[ind+1])[0]\n",
    "                        A[i, j] += 1\n",
    "            sums = [sum(i) for i in A]\n",
    "            A = np.log(self.laplace_correction((A.T / sums).T))\n",
    "            pi = np.log(self.laplace_correction(pi / sum(pi)))\n",
    "            return A, pi\n",
    "        else:\n",
    "            pi = np.zeros(self.size**2)\n",
    "            for ind in range(len(self.string[:-2])):\n",
    "                if ind == 0:\n",
    "                    if self.string[ind] != \" \" and self.string[ind+1] != \" \":\n",
    "                        permutation = \"\".join([self.string[ind], self.string[ind+1]])\n",
    "                        k = np.where(self.permutations == permutation)[0]\n",
    "                        pi[k] += 1\n",
    "                elif self.string[ind] == \" \":\n",
    "                    if self.string[ind+1] != \" \" and self.string[ind+2] != \" \":\n",
    "                        permutation = \"\".join([self.string[ind+1], self.string[ind+2]])\n",
    "                        k = np.where(self.permutations == permutation)[0]\n",
    "                        pi[k] += 1\n",
    "                else:\n",
    "                    if self.string[ind+1] != \" \":\n",
    "                        i = np.where(self.alphabet == self.string[ind])[0]\n",
    "                        j = np.where(self.alphabet == self.string[ind+1])[0]\n",
    "                        A[i, j] += 1\n",
    "            sums = [sum(i) for i in A]\n",
    "            A = np.log(self.laplace_correction((A.T / sums).T))\n",
    "            pi = np.log(self.laplace_correction(pi / sum(pi)))\n",
    "            return A, pi\n",
    "\n",
    "    def laplace_correction(self, matrix):\n",
    "        matrix = matrix + 0.0001\n",
    "        norm_matrix = matrix / np.linalg.norm(matrix)\n",
    "        return norm_matrix\n",
    "    \n",
    "    def probability_of_word(self, word, state_len):\n",
    "        P = 0\n",
    "        for ind in range(len(word[:-1])):\n",
    "            if ind == 0:\n",
    "                if state_len == 1:\n",
    "                    k = np.where(self.alphabet == word[ind])[0]\n",
    "                    P += self.pi[k]\n",
    "                else:\n",
    "                    if self.string[ind] != \" \" and self.string[ind+1] != \" \":\n",
    "                        permutation = \"\".join([self.string[ind], self.string[ind+1]])\n",
    "                        k = np.where(self.permutations == permutation)[0]\n",
    "                        P += self.pi[k]\n",
    "            else:\n",
    "                i = np.where(self.alphabet == word[ind])[0]\n",
    "                j = np.where(self.alphabet == word[ind+1])[0]\n",
    "                P += self.A[i, j]\n",
    "        return P\n",
    "    \n",
    "    def probability_of_sequence(self, sequence, state_len):\n",
    "        for word in sequence.split(\" \"):\n",
    "            self.Pi.append(self.probability_of_word(word, state_len))\n",
    "        return np.sum(self.Pi)"
   ]
  },
  {
   "cell_type": "markdown",
   "metadata": {},
   "source": [
    "### Classification based on markov model"
   ]
  },
  {
   "cell_type": "code",
   "execution_count": 2,
   "metadata": {},
   "outputs": [],
   "source": [
    "class MarkovClassifier():\n",
    "    def __init__(self, alphabet, state_len):\n",
    "        self.alphabet = alphabet\n",
    "        self.models_names = None\n",
    "        self.models = []\n",
    "        self.idx_pred = None\n",
    "        self.state_len = state_len\n",
    "        \n",
    "    def fit(self, titles, train_datasets):\n",
    "        self.models_names = titles\n",
    "        for title, X_train in zip(titles, train_datasets):\n",
    "            model = Model(title, X_train, self.alphabet, self.state_len)\n",
    "            self.models.append(model)\n",
    "            \n",
    "    def predict(self, X_test):\n",
    "        P = []\n",
    "        for mi in self.models:\n",
    "            P.append(mi.probability_of_sequence(X_test, self.state_len))\n",
    "        self.idx_pred = np.argmax(P)\n",
    "        return self.models_names[self.idx_pred]\n",
    "    \n",
    "    def score(self):\n",
    "        M = [mi.Pi for mi in self.models]\n",
    "        M = np.asarray(M, dtype=\"float\").T\n",
    "        min_idx = np.argmax(M, axis=1)\n",
    "        unique, counts = np.unique(min_idx, return_counts=True)\n",
    "        idx = np.where(unique == self.idx_pred)[0]\n",
    "        if len(counts) != len(self.models_names):\n",
    "            counts_ = []\n",
    "            for i in range(len(self.models_names)):\n",
    "                if i in unique:\n",
    "                    counts_.append(int(counts[np.where(i == unique)]))\n",
    "                else:\n",
    "                    counts_.append(0)\n",
    "            return (counts[idx] / np.sum(counts))[0], counts_\n",
    "        return (counts[idx] / np.sum(counts))[0], counts      "
   ]
  },
  {
   "cell_type": "markdown",
   "metadata": {},
   "source": [
    "### Loading datasets"
   ]
  },
  {
   "cell_type": "code",
   "execution_count": 3,
   "metadata": {},
   "outputs": [],
   "source": [
    "alphabet = \"abcdefghijklmnopqrstuvwxyz\"      \n",
    "titles = [\"King_Henry_IV\", \"Oliver_Twist\", \"Poor_folk\", \"Nicholas_Nickleby\"]\n",
    "train_datasets = []\n",
    "test_datasets = []\n",
    "for title in titles:\n",
    "    sample = \"\"\n",
    "    with open(title+\".txt\") as f:\n",
    "        line = f.readline()\n",
    "        while line:\n",
    "            line = f.readline()\n",
    "            line = line.replace(\"\\n\", \" \")\n",
    "            sample += line.translate(str.maketrans(\"\", \"\", string.punctuation)).lower()\n",
    "    idx = int(len(sample) * 0.7)\n",
    "    X_train = sample[:idx]\n",
    "    X_test = sample[idx:]\n",
    "    train_datasets.append(X_train)\n",
    "    test_datasets.append(X_test)"
   ]
  },
  {
   "cell_type": "markdown",
   "metadata": {},
   "source": [
    "### Applying the classifier\n",
    "(state treated as a single character)"
   ]
  },
  {
   "cell_type": "code",
   "execution_count": 8,
   "metadata": {},
   "outputs": [
    {
     "name": "stdout",
     "output_type": "stream",
     "text": [
      "TEST DATA: King_Henry_IV, SCORE: 63%\n",
      "TEST DATA: Oliver_Twist, SCORE: 51%\n",
      "TEST DATA: Poor_folk, SCORE: 48%\n",
      "TEST DATA: Nicholas_Nickleby, SCORE: 46%\n",
      "MAIN SCORE: 52.0%\n"
     ]
    }
   ],
   "source": [
    "clf = MarkovClassifier(alphabet, 1)\n",
    "clf.fit(titles, train_datasets)\n",
    "score = []\n",
    "confusion_matrix = []\n",
    "for i, title in enumerate(titles):\n",
    "    clf.predict(test_datasets[i])\n",
    "    score_i, counts = clf.score()\n",
    "    confusion_matrix.append(counts)\n",
    "    score.append(int(score_i*100))\n",
    "    print(f\"TEST DATA: {title}, SCORE: {score[i]}%\")\n",
    "print(f\"MAIN SCORE: {np.mean(score)}%\" )"
   ]
  },
  {
   "cell_type": "markdown",
   "metadata": {},
   "source": [
    "### Confusion matrix"
   ]
  },
  {
   "cell_type": "code",
   "execution_count": 5,
   "metadata": {},
   "outputs": [
    {
     "data": {
      "text/html": [
       "<div>\n",
       "<style scoped>\n",
       "    .dataframe tbody tr th:only-of-type {\n",
       "        vertical-align: middle;\n",
       "    }\n",
       "\n",
       "    .dataframe tbody tr th {\n",
       "        vertical-align: top;\n",
       "    }\n",
       "\n",
       "    .dataframe thead th {\n",
       "        text-align: right;\n",
       "    }\n",
       "</style>\n",
       "<table border=\"1\" class=\"dataframe\">\n",
       "  <thead>\n",
       "    <tr style=\"text-align: right;\">\n",
       "      <th></th>\n",
       "      <th>King_Henry_IV</th>\n",
       "      <th>Oliver_Twist</th>\n",
       "      <th>Poor_folk</th>\n",
       "      <th>Nicholas_Nickleby</th>\n",
       "    </tr>\n",
       "  </thead>\n",
       "  <tbody>\n",
       "    <tr>\n",
       "      <th>King_Henry_IV</th>\n",
       "      <td>2068</td>\n",
       "      <td>363</td>\n",
       "      <td>484</td>\n",
       "      <td>350</td>\n",
       "    </tr>\n",
       "    <tr>\n",
       "      <th>Oliver_Twist</th>\n",
       "      <td>2599</td>\n",
       "      <td>912</td>\n",
       "      <td>808</td>\n",
       "      <td>698</td>\n",
       "    </tr>\n",
       "    <tr>\n",
       "      <th>Poor_folk</th>\n",
       "      <td>2982</td>\n",
       "      <td>1128</td>\n",
       "      <td>1180</td>\n",
       "      <td>899</td>\n",
       "    </tr>\n",
       "    <tr>\n",
       "      <th>Nicholas_Nickleby</th>\n",
       "      <td>3235</td>\n",
       "      <td>1293</td>\n",
       "      <td>1348</td>\n",
       "      <td>1054</td>\n",
       "    </tr>\n",
       "  </tbody>\n",
       "</table>\n",
       "</div>"
      ],
      "text/plain": [
       "                   King_Henry_IV  Oliver_Twist  Poor_folk  Nicholas_Nickleby\n",
       "King_Henry_IV               2068           363        484                350\n",
       "Oliver_Twist                2599           912        808                698\n",
       "Poor_folk                   2982          1128       1180                899\n",
       "Nicholas_Nickleby           3235          1293       1348               1054"
      ]
     },
     "execution_count": 5,
     "metadata": {},
     "output_type": "execute_result"
    }
   ],
   "source": [
    "import pandas as pd\n",
    "\n",
    "df = pd.DataFrame(data=np.asarray(confusion_matrix), columns = titles, index=titles)\n",
    "df"
   ]
  },
  {
   "cell_type": "markdown",
   "metadata": {},
   "source": [
    "(state treated as a pair of characters)"
   ]
  },
  {
   "cell_type": "code",
   "execution_count": 7,
   "metadata": {},
   "outputs": [
    {
     "name": "stdout",
     "output_type": "stream",
     "text": [
      "TEST DATA: King_Henry_IV, SCORE: 83%\n",
      "TEST DATA: Oliver_Twist, SCORE: 73%\n",
      "TEST DATA: Poor_folk, SCORE: 72%\n",
      "TEST DATA: Nicholas_Nickleby, SCORE: 71%\n",
      "MAIN SCORE: 74.75%\n"
     ]
    }
   ],
   "source": [
    "clf = MarkovClassifier(alphabet, 2)\n",
    "clf.fit(titles, train_datasets)\n",
    "score = []\n",
    "confusion_matrix = []\n",
    "for i, title in enumerate(titles):\n",
    "    clf.predict(test_datasets[i])\n",
    "    score_i, counts = clf.score()\n",
    "    confusion_matrix.append(counts)\n",
    "    score.append(int(score_i*100))\n",
    "    print(f\"TEST DATA: {title}, SCORE: {score[i]}%\")\n",
    "print(f\"MAIN SCORE: {np.mean(score)}%\" )"
   ]
  },
  {
   "cell_type": "markdown",
   "metadata": {},
   "source": [
    "### Confusion matrix"
   ]
  },
  {
   "cell_type": "code",
   "execution_count": 9,
   "metadata": {},
   "outputs": [
    {
     "data": {
      "text/html": [
       "<div>\n",
       "<style scoped>\n",
       "    .dataframe tbody tr th:only-of-type {\n",
       "        vertical-align: middle;\n",
       "    }\n",
       "\n",
       "    .dataframe tbody tr th {\n",
       "        vertical-align: top;\n",
       "    }\n",
       "\n",
       "    .dataframe thead th {\n",
       "        text-align: right;\n",
       "    }\n",
       "</style>\n",
       "<table border=\"1\" class=\"dataframe\">\n",
       "  <thead>\n",
       "    <tr style=\"text-align: right;\">\n",
       "      <th></th>\n",
       "      <th>King_Henry_IV</th>\n",
       "      <th>Oliver_Twist</th>\n",
       "      <th>Poor_folk</th>\n",
       "      <th>Nicholas_Nickleby</th>\n",
       "    </tr>\n",
       "  </thead>\n",
       "  <tbody>\n",
       "    <tr>\n",
       "      <th>King_Henry_IV</th>\n",
       "      <td>2068</td>\n",
       "      <td>363</td>\n",
       "      <td>484</td>\n",
       "      <td>350</td>\n",
       "    </tr>\n",
       "    <tr>\n",
       "      <th>Oliver_Twist</th>\n",
       "      <td>2599</td>\n",
       "      <td>912</td>\n",
       "      <td>808</td>\n",
       "      <td>698</td>\n",
       "    </tr>\n",
       "    <tr>\n",
       "      <th>Poor_folk</th>\n",
       "      <td>2982</td>\n",
       "      <td>1128</td>\n",
       "      <td>1180</td>\n",
       "      <td>899</td>\n",
       "    </tr>\n",
       "    <tr>\n",
       "      <th>Nicholas_Nickleby</th>\n",
       "      <td>3235</td>\n",
       "      <td>1293</td>\n",
       "      <td>1348</td>\n",
       "      <td>1054</td>\n",
       "    </tr>\n",
       "  </tbody>\n",
       "</table>\n",
       "</div>"
      ],
      "text/plain": [
       "                   King_Henry_IV  Oliver_Twist  Poor_folk  Nicholas_Nickleby\n",
       "King_Henry_IV               2068           363        484                350\n",
       "Oliver_Twist                2599           912        808                698\n",
       "Poor_folk                   2982          1128       1180                899\n",
       "Nicholas_Nickleby           3235          1293       1348               1054"
      ]
     },
     "execution_count": 9,
     "metadata": {},
     "output_type": "execute_result"
    }
   ],
   "source": [
    "df = pd.DataFrame(data=np.asarray(confusion_matrix), columns = titles, index=titles)\n",
    "df"
   ]
  },
  {
   "cell_type": "code",
   "execution_count": 11,
   "metadata": {},
   "outputs": [
    {
     "name": "stdout",
     "output_type": "stream",
     "text": [
      "TEST DATA: Nicholas_Nickleby, SCORE: 46%\n"
     ]
    }
   ],
   "source": [
    "sample = \"\"\n",
    "with open(\"Antony_and_Cleopatra.txt\") as f:\n",
    "    line = f.readline()\n",
    "    while line:\n",
    "        line = f.readline()\n",
    "        line = line.replace(\"\\n\", \" \")\n",
    "        sample += line.translate(str.maketrans(\"\", \"\", string.punctuation)).lower()\n",
    "idx = int(len(sample) * 0.7)\n",
    "clf.predict(sample)\n",
    "print(f\"TEST DATA: {title}, SCORE: {int(clf.score()[0]*100)}%\")\n",
    "# Christmas_Carol.txt\n",
    "# Antony_and_Cleopatra.txt"
   ]
  }
 ],
 "metadata": {
  "kernelspec": {
   "display_name": "Python 3 (ipykernel)",
   "language": "python",
   "name": "python3"
  },
  "language_info": {
   "codemirror_mode": {
    "name": "ipython",
    "version": 3
   },
   "file_extension": ".py",
   "mimetype": "text/x-python",
   "name": "python",
   "nbconvert_exporter": "python",
   "pygments_lexer": "ipython3",
   "version": "3.8.12"
  }
 },
 "nbformat": 4,
 "nbformat_minor": 2
}
